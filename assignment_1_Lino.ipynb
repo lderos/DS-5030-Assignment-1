{
 "cells": [
  {
   "cell_type": "markdown",
   "id": "7d9eb9f0",
   "metadata": {},
   "source": [
    "# Assignment 1\n",
    "### Understanding Uncertainty\n",
    "### Due 9/5"
   ]
  },
  {
   "cell_type": "markdown",
   "id": "8f4529b0",
   "metadata": {},
   "source": [
    "1. Create a new public repo on Github under your account. Include a readme file.\n",
    "2. Clone it to your machine. Put this file into that repo.\n",
    "3. Use the following function to download the example data for the course:"
   ]
  },
  {
   "cell_type": "code",
   "execution_count": 27,
   "id": "7b63ec8a",
   "metadata": {},
   "outputs": [
    {
     "name": "stdout",
     "output_type": "stream",
     "text": [
      "Download file already exists\n",
      "Data directory already exists\n"
     ]
    }
   ],
   "source": [
    "def download_data(force=False):\n",
    "    \"\"\"Download and extract course data from Zenodo.\"\"\"\n",
    "    import urllib.request, zipfile, os\n",
    "    \n",
    "    zip_path = 'data.zip'\n",
    "    data_dir = 'data'\n",
    "    \n",
    "    if not os.path.exists(zip_path) or force:\n",
    "        print(\"Downloading course data\")\n",
    "        urllib.request.urlretrieve(\n",
    "            'https://zenodo.org/records/16954427/files/data.zip?download=1',\n",
    "            zip_path\n",
    "        )\n",
    "        print(\"Download complete\")\n",
    "    else:\n",
    "        print(\"Download file already exists\")\n",
    "        \n",
    "    if not os.path.exists(data_dir) or force:\n",
    "        print(\"Extracting data files...\")\n",
    "        with zipfile.ZipFile(zip_path, 'r') as zip_ref:\n",
    "            zip_ref.extractall(data_dir)\n",
    "        print(\"Data extracted\")\n",
    "    else:\n",
    "        print(\"Data directory already exists\")\n",
    "\n",
    "download_data()"
   ]
  },
  {
   "cell_type": "markdown",
   "id": "a5bf3abb",
   "metadata": {},
   "source": [
    "4. Open one of the datasets using Pandas:\n",
    "    1. `ames_prices.csv`: Housing characteristics and prices\n",
    "    2. `college_completion.csv`: Public, nonprofit, and for-profit educational institutions, graduation rates, and financial aid\n",
    "    3. `ForeignGifts_edu.csv`: Monetary and in-kind transfers from foreign entities to U.S. educational institutions\n",
    "    4. `iowa.csv`: Liquor sales in Iowa, at the transaction level\n",
    "    5. `metabric.csv`: Cancer patient and outcome data\n",
    "    6. `mn_police_use_of_force.csv`: Records of physical altercations between Minnessota police and private citizens\n",
    "    7. `nhanes_data_17_18.csv`: National Health and Nutrition Examination Survey\n",
    "    8. `tuna.csv`: Yellowfin Tuna Genome (I don't recommend this one; it's just a sequence of G, C, A, T )\n",
    "    9. `va_procurement.csv`: Public spending by the state of Virginia"
   ]
  },
  {
   "cell_type": "code",
   "execution_count": 28,
   "id": "86b886dd",
   "metadata": {},
   "outputs": [],
   "source": [
    "import pandas as pd\n",
    "import numpy as np\n",
    "\n",
    "ForeignGifts_edu = pd.read_csv('data/ForeignGifts_edu.csv')"
   ]
  },
  {
   "cell_type": "markdown",
   "id": "32222cd7",
   "metadata": {},
   "source": [
    "5. Pick two or three variables and briefly analyze them\n",
    "    - Is it a categorical or numeric variable?\n",
    "    - How many missing values are there? (`df['var'].isna()` and `np.sum()`)\n",
    "    - If categorical, tabulate the values (`df['var'].value_counts()`) and if numeric, get a summary (`df['var'].describe()`)"
   ]
  },
  {
   "cell_type": "code",
   "execution_count": 29,
   "id": "43766018",
   "metadata": {},
   "outputs": [
    {
     "name": "stdout",
     "output_type": "stream",
     "text": [
      "<class 'pandas.core.series.Series'>\n",
      "RangeIndex: 28221 entries, 0 to 28220\n",
      "Series name: Foreign Gift Amount\n",
      "Non-Null Count  Dtype\n",
      "--------------  -----\n",
      "28221 non-null  int64\n",
      "dtypes: int64(1)\n",
      "memory usage: 220.6 KB\n"
     ]
    },
    {
     "data": {
      "text/plain": [
       "count    2.822100e+04\n",
       "mean     5.882327e+05\n",
       "std      3.222011e+06\n",
       "min     -5.377700e+05\n",
       "25%      5.700000e+03\n",
       "50%      9.461500e+04\n",
       "75%      3.761420e+05\n",
       "max      1.000000e+08\n",
       "Name: Foreign Gift Amount, dtype: float64"
      ]
     },
     "execution_count": 29,
     "metadata": {},
     "output_type": "execute_result"
    }
   ],
   "source": [
    "ForeignGifts_edu[\"Foreign Gift Amount\"].info()\n",
    "np.sum(ForeignGifts_edu[\"Foreign Gift Amount\"].isna())\n",
    "ForeignGifts_edu[\"Foreign Gift Amount\"].describe()\n"
   ]
  },
  {
   "cell_type": "markdown",
   "id": "7d922bbb",
   "metadata": {},
   "source": [
    "This variable is numerical with no missing entries and contains the attributes described by .describe() above."
   ]
  },
  {
   "cell_type": "code",
   "execution_count": 30,
   "id": "61a0f88f",
   "metadata": {},
   "outputs": [
    {
     "name": "stdout",
     "output_type": "stream",
     "text": [
      "<class 'pandas.core.series.Series'>\n",
      "RangeIndex: 28221 entries, 0 to 28220\n",
      "Series name: Gift Type\n",
      "Non-Null Count  Dtype \n",
      "--------------  ----- \n",
      "28221 non-null  object\n",
      "dtypes: object(1)\n",
      "memory usage: 220.6+ KB\n"
     ]
    },
    {
     "data": {
      "text/plain": [
       "Gift Type\n",
       "Contract         17274\n",
       "Monetary Gift    10936\n",
       "Real Estate         11\n",
       "Name: count, dtype: int64"
      ]
     },
     "execution_count": 30,
     "metadata": {},
     "output_type": "execute_result"
    }
   ],
   "source": [
    "ForeignGifts_edu[\"Gift Type\"].info()\n",
    "np.sum(ForeignGifts_edu[\"Gift Type\"].isna())\n",
    "ForeignGifts_edu[\"Gift Type\"].value_counts()\n",
    "\n"
   ]
  },
  {
   "cell_type": "markdown",
   "id": "ac4dd976",
   "metadata": {},
   "source": [
    "The variable \"Gift Type\" is categorical and contains no missing values. Additionally, the gift type is broken down in the above table using the .value_counts() function."
   ]
  },
  {
   "cell_type": "markdown",
   "id": "2976e594",
   "metadata": {},
   "source": [
    "6. What are some questions and prediction tools you could create using these data? Who would the stakeholder be for that prediction tool? What practical or ethical questions would it create? What other data would you want, that are not available in your data?"
   ]
  },
  {
   "cell_type": "markdown",
   "id": "26962383",
   "metadata": {},
   "source": [
    "With data on the monetary value and type of foreign gifts to U.S. educational institutions, one could build prediction tools to forecast future levels of foreign funding both by type and monetary value, and create questions like which institutions are most likely to receive large gifts, or detect patterns by donor country and gift type. Stakeholders might include policymakers, university administrators, and watchdog organizations concerned with transparency and influence. These tools raise ethical questions about how predictions might stigmatize certain institutions, reinforce geopolitical biases, or be used to limit academic collaboration. Additional data such as donor intent, conditions tied to gifts, recipient program areas, and long-term institutional outcomes would provide deeper context for responsible analysis."
   ]
  },
  {
   "cell_type": "markdown",
   "id": "962682bb",
   "metadata": {},
   "source": [
    "7. Commit your work to the repo (`git commit -am 'Finish assignment'` at the command line, or use the Git panel in VS Code). Push your work back to Github and submit the link on Canvas in the assignment tab."
   ]
  }
 ],
 "metadata": {
  "kernelspec": {
   "display_name": "ds6001",
   "language": "python",
   "name": "python3"
  },
  "language_info": {
   "codemirror_mode": {
    "name": "ipython",
    "version": 3
   },
   "file_extension": ".py",
   "mimetype": "text/x-python",
   "name": "python",
   "nbconvert_exporter": "python",
   "pygments_lexer": "ipython3",
   "version": "3.13.5"
  }
 },
 "nbformat": 4,
 "nbformat_minor": 5
}
